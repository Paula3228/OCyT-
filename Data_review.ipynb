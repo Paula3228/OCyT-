{
 "cells": [
  {
   "cell_type": "code",
   "execution_count": 3,
   "id": "7e0f00ae",
   "metadata": {},
   "outputs": [
    {
     "name": "stdout",
     "output_type": "stream",
     "text": [
      "['Grafica 1', 'Grafica 2', 'Grafica 3', 'Grafico 4', 'Grafica 5', 'Grafica 6', 'Grafica 7', 'Grafica 8', 'Grafica 9', 'Grafica 10', 'Grafica 11', '%PIB ACTI']\n"
     ]
    }
   ],
   "source": [
    "import pandas as pd\n",
    "import numpy as np\n",
    "import matplotlib.pyplot as plt\n",
    "import seaborn as sns\n",
    "\n",
    "# Cargar el archivo Excel\n",
    "data = pd.ExcelFile(\"OCyT_Data.xlsx\")\n",
    "\n",
    "# Ver nombres de todas las hojas\n",
    "print(data.sheet_names)\n",
    "\n"
   ]
  },
  {
   "cell_type": "code",
   "execution_count": 12,
   "id": "35375b32",
   "metadata": {},
   "outputs": [
    {
     "name": "stdout",
     "output_type": "stream",
     "text": [
      "Hojas disponibles: dict_keys(['Grafica 1', 'Grafica 2', 'Grafica 3', 'Grafico 4', 'Grafica 5', 'Grafica 6', 'Grafica 7', 'Grafica 8', 'Grafica 9', 'Grafica 10', 'Grafica 11', '%PIB ACTI'])\n"
     ]
    },
    {
     "data": {
      "text/html": [
       "<div>\n",
       "<style scoped>\n",
       "    .dataframe tbody tr th:only-of-type {\n",
       "        vertical-align: middle;\n",
       "    }\n",
       "\n",
       "    .dataframe tbody tr th {\n",
       "        vertical-align: top;\n",
       "    }\n",
       "\n",
       "    .dataframe thead th {\n",
       "        text-align: right;\n",
       "    }\n",
       "</style>\n",
       "<table border=\"1\" class=\"dataframe\">\n",
       "  <thead>\n",
       "    <tr style=\"text-align: right;\">\n",
       "      <th></th>\n",
       "      <th>Grafica 2. Distribución de la financiación de I+D por tipo de recurso</th>\n",
       "      <th>Unnamed: 1</th>\n",
       "      <th>Unnamed: 2</th>\n",
       "    </tr>\n",
       "  </thead>\n",
       "  <tbody>\n",
       "    <tr>\n",
       "      <th>0</th>\n",
       "      <td>Tipo de recurso</td>\n",
       "      <td>Valores</td>\n",
       "      <td>2023+</td>\n",
       "    </tr>\n",
       "    <tr>\n",
       "      <th>1</th>\n",
       "      <td>Públicos</td>\n",
       "      <td>1350022.191233</td>\n",
       "      <td>0.443412</td>\n",
       "    </tr>\n",
       "    <tr>\n",
       "      <th>2</th>\n",
       "      <td>Privados</td>\n",
       "      <td>1509492.207333</td>\n",
       "      <td>0.49579</td>\n",
       "    </tr>\n",
       "    <tr>\n",
       "      <th>3</th>\n",
       "      <td>Internacionales</td>\n",
       "      <td>185105.967574</td>\n",
       "      <td>0.060798</td>\n",
       "    </tr>\n",
       "    <tr>\n",
       "      <th>4</th>\n",
       "      <td>Total inversión (millones de pesos de 2015)</td>\n",
       "      <td>3044620.36614</td>\n",
       "      <td>3044620.36614</td>\n",
       "    </tr>\n",
       "  </tbody>\n",
       "</table>\n",
       "</div>"
      ],
      "text/plain": [
       "  Grafica 2. Distribución de la financiación de I+D por tipo de recurso  \\\n",
       "0                                    Tipo de recurso                      \n",
       "1                                           Públicos                      \n",
       "2                                           Privados                      \n",
       "3                                   Internacionales                       \n",
       "4        Total inversión (millones de pesos de 2015)                      \n",
       "\n",
       "       Unnamed: 1     Unnamed: 2  \n",
       "0         Valores          2023+  \n",
       "1  1350022.191233       0.443412  \n",
       "2  1509492.207333        0.49579  \n",
       "3   185105.967574       0.060798  \n",
       "4   3044620.36614  3044620.36614  "
      ]
     },
     "execution_count": 12,
     "metadata": {},
     "output_type": "execute_result"
    }
   ],
   "source": [
    "#diccionario para las hojas\n",
    "\n",
    "sheets = {sheet: pd.read_excel(data, sheet_name=sheet) for sheet in data.sheet_names}\n",
    "\n",
    "print(\"Hojas disponibles:\", sheets.keys())\n",
    "\n",
    "df = sheets[list(sheets.keys())[1]]   # Escoger una hoja como ejemplo\n",
    "df.head()"
   ]
  },
  {
   "cell_type": "code",
   "execution_count": 14,
   "id": "f4130e5f",
   "metadata": {},
   "outputs": [
    {
     "ename": "AttributeError",
     "evalue": "'ExcelFile' object has no attribute 'shape'",
     "output_type": "error",
     "traceback": [
      "\u001b[31m---------------------------------------------------------------------------\u001b[39m",
      "\u001b[31mAttributeError\u001b[39m                            Traceback (most recent call last)",
      "\u001b[36mCell\u001b[39m\u001b[36m \u001b[39m\u001b[32mIn[14]\u001b[39m\u001b[32m, line 1\u001b[39m\n\u001b[32m----> \u001b[39m\u001b[32m1\u001b[39m \u001b[43mdata\u001b[49m\u001b[43m.\u001b[49m\u001b[43mshape\u001b[49m\n",
      "\u001b[31mAttributeError\u001b[39m: 'ExcelFile' object has no attribute 'shape'"
     ]
    }
   ],
   "source": [
    "data.shape"
   ]
  }
 ],
 "metadata": {
  "kernelspec": {
   "display_name": "Python 3",
   "language": "python",
   "name": "python3"
  },
  "language_info": {
   "codemirror_mode": {
    "name": "ipython",
    "version": 3
   },
   "file_extension": ".py",
   "mimetype": "text/x-python",
   "name": "python",
   "nbconvert_exporter": "python",
   "pygments_lexer": "ipython3",
   "version": "3.12.1"
  }
 },
 "nbformat": 4,
 "nbformat_minor": 5
}
