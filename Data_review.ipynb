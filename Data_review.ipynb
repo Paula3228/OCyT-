{
 "cells": [
  {
   "cell_type": "code",
   "execution_count": 3,
   "id": "7e0f00ae",
   "metadata": {},
   "outputs": [
    {
     "name": "stdout",
     "output_type": "stream",
     "text": [
      "['Grafica 1', 'Grafica 2', 'Grafica 3', 'Grafico 4', 'Grafica 5', 'Grafica 6', 'Grafica 7', 'Grafica 8', 'Grafica 9', 'Grafica 10', 'Grafica 11', '%PIB ACTI']\n"
     ]
    }
   ],
   "source": [
    "import pandas as pd\n",
    "import numpy as np\n",
    "import matplotlib.pyplot as plt\n",
    "import seaborn as sns\n",
    "\n",
    "# Cargar el archivo Excel\n",
    "data = pd.ExcelFile(\"OCyT_Data.xlsx\")\n",
    "\n",
    "# Ver nombres de todas las hojas\n",
    "print(data.sheet_names)\n",
    "\n"
   ]
  },
  {
   "cell_type": "code",
   "execution_count": 13,
   "id": "35375b32",
   "metadata": {},
   "outputs": [
    {
     "name": "stdout",
     "output_type": "stream",
     "text": [
      "dict_keys(['Grafica 1', 'Grafica 2', 'Grafica 3', 'Grafico 4', 'Grafica 5', 'Grafica 6', 'Grafica 7', 'Grafica 8', 'Grafica 9', 'Grafica 10', 'Grafica 11', '%PIB ACTI'])\n",
      "  Grafica 1. Inversión en I+D como porcentaje del PIB Unnamed: 1   Unnamed: 2  \\\n",
      "0                                                NaN        2019  2020.000000   \n",
      "1                                    I+D como % PIB     0.002529     0.002962   \n",
      "2                                                NaN         NaN          NaN   \n",
      "3                                                NaN         NaN          NaN   \n",
      "4                                                NaN         NaN          NaN   \n",
      "\n",
      "  Unnamed: 3 Unnamed: 4 Unnamed: 5  \n",
      "0      2021*      2022+      2023+  \n",
      "1   0.002818   0.002297   0.003112  \n",
      "2        NaN        NaN        NaN  \n",
      "3        NaN        NaN        NaN  \n",
      "4        NaN        NaN        NaN  \n"
     ]
    }
   ],
   "source": [
    "#diccionario para las hojas\n",
    "\n",
    "hojas = pd.read_excel(\"OCyT_Data.xlsx\", sheet_name=None)\n",
    "print(hojas.keys())   # nombres de las hojas\n",
    "print(hojas[\"Grafica 1\"].head())  # ejemplo: primeras filas de \"Grafica 1\""
   ]
  },
  {
   "cell_type": "code",
   "execution_count": 14,
   "id": "f4130e5f",
   "metadata": {},
   "outputs": [
    {
     "ename": "AttributeError",
     "evalue": "'ExcelFile' object has no attribute 'shape'",
     "output_type": "error",
     "traceback": [
      "\u001b[31m---------------------------------------------------------------------------\u001b[39m",
      "\u001b[31mAttributeError\u001b[39m                            Traceback (most recent call last)",
      "\u001b[36mCell\u001b[39m\u001b[36m \u001b[39m\u001b[32mIn[14]\u001b[39m\u001b[32m, line 1\u001b[39m\n\u001b[32m----> \u001b[39m\u001b[32m1\u001b[39m \u001b[43mdata\u001b[49m\u001b[43m.\u001b[49m\u001b[43mshape\u001b[49m\n",
      "\u001b[31mAttributeError\u001b[39m: 'ExcelFile' object has no attribute 'shape'"
     ]
    }
   ],
   "source": [
    "data.shape"
   ]
  }
 ],
 "metadata": {
  "kernelspec": {
   "display_name": "Python 3",
   "language": "python",
   "name": "python3"
  },
  "language_info": {
   "codemirror_mode": {
    "name": "ipython",
    "version": 3
   },
   "file_extension": ".py",
   "mimetype": "text/x-python",
   "name": "python",
   "nbconvert_exporter": "python",
   "pygments_lexer": "ipython3",
   "version": "3.12.1"
  }
 },
 "nbformat": 4,
 "nbformat_minor": 5
}
