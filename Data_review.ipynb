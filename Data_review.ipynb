{
 "cells": [
  {
   "cell_type": "code",
   "execution_count": 3,
   "id": "7e0f00ae",
   "metadata": {},
   "outputs": [
    {
     "name": "stdout",
     "output_type": "stream",
     "text": [
      "['Grafica 1', 'Grafica 2', 'Grafica 3', 'Grafico 4', 'Grafica 5', 'Grafica 6', 'Grafica 7', 'Grafica 8', 'Grafica 9', 'Grafica 10', 'Grafica 11', '%PIB ACTI']\n"
     ]
    }
   ],
   "source": [
    "import pandas as pd\n",
    "import numpy as np\n",
    "import matplotlib.pyplot as plt\n",
    "import seaborn as sns\n",
    "\n",
    "# Cargar el archivo Excel\n",
    "data = pd.ExcelFile(\"OCyT_Data.xlsx\")\n",
    "\n",
    "# Ver nombres de todas las hojas\n",
    "print(data.sheet_names)\n",
    "\n"
   ]
  },
  {
   "cell_type": "code",
   "execution_count": 38,
   "id": "35375b32",
   "metadata": {},
   "outputs": [
    {
     "name": "stdout",
     "output_type": "stream",
     "text": [
      "Hojas disponibles: dict_keys(['Grafica 1', 'Grafica 2', 'Grafica 3', 'Grafico 4', 'Grafica 5', 'Grafica 6', 'Grafica 7', 'Grafica 8', 'Grafica 9', 'Grafica 10', 'Grafica 11', '%PIB ACTI'])\n"
     ]
    },
    {
     "data": {
      "text/html": [
       "<div>\n",
       "<style scoped>\n",
       "    .dataframe tbody tr th:only-of-type {\n",
       "        vertical-align: middle;\n",
       "    }\n",
       "\n",
       "    .dataframe tbody tr th {\n",
       "        vertical-align: top;\n",
       "    }\n",
       "\n",
       "    .dataframe thead th {\n",
       "        text-align: right;\n",
       "    }\n",
       "</style>\n",
       "<table border=\"1\" class=\"dataframe\">\n",
       "  <thead>\n",
       "    <tr style=\"text-align: right;\">\n",
       "      <th></th>\n",
       "      <th>Inversión en actividades de ciencia, tecnología e innovación –ACTI como porcentaje del PIB</th>\n",
       "      <th>Unnamed: 1</th>\n",
       "      <th>Unnamed: 2</th>\n",
       "      <th>Unnamed: 3</th>\n",
       "      <th>Unnamed: 4</th>\n",
       "      <th>Unnamed: 5</th>\n",
       "      <th>Unnamed: 6</th>\n",
       "      <th>Unnamed: 7</th>\n",
       "      <th>Unnamed: 8</th>\n",
       "    </tr>\n",
       "  </thead>\n",
       "  <tbody>\n",
       "    <tr>\n",
       "      <th>0</th>\n",
       "      <td>NaN</td>\n",
       "      <td>2019</td>\n",
       "      <td>2020.000000</td>\n",
       "      <td>2021*</td>\n",
       "      <td>2022+</td>\n",
       "      <td>2023+</td>\n",
       "      <td>NaN</td>\n",
       "      <td>NaN</td>\n",
       "      <td>NaN</td>\n",
       "    </tr>\n",
       "    <tr>\n",
       "      <th>1</th>\n",
       "      <td>I+D como % PIB</td>\n",
       "      <td>0.002529</td>\n",
       "      <td>0.002962</td>\n",
       "      <td>0.002818</td>\n",
       "      <td>0.002297</td>\n",
       "      <td>0.003112</td>\n",
       "      <td>NaN</td>\n",
       "      <td>NaN</td>\n",
       "      <td>NaN</td>\n",
       "    </tr>\n",
       "    <tr>\n",
       "      <th>2</th>\n",
       "      <td>ACTI como % PIB</td>\n",
       "      <td>0.008084</td>\n",
       "      <td>0.009577</td>\n",
       "      <td>0.011484</td>\n",
       "      <td>0.009888</td>\n",
       "      <td>0.010346</td>\n",
       "      <td>NaN</td>\n",
       "      <td>NaN</td>\n",
       "      <td>-0.184762</td>\n",
       "    </tr>\n",
       "    <tr>\n",
       "      <th>3</th>\n",
       "      <td>NaN</td>\n",
       "      <td>NaN</td>\n",
       "      <td>NaN</td>\n",
       "      <td>NaN</td>\n",
       "      <td>NaN</td>\n",
       "      <td>NaN</td>\n",
       "      <td>NaN</td>\n",
       "      <td>NaN</td>\n",
       "      <td>-0.139025</td>\n",
       "    </tr>\n",
       "    <tr>\n",
       "      <th>4</th>\n",
       "      <td>NaN</td>\n",
       "      <td>NaN</td>\n",
       "      <td>NaN</td>\n",
       "      <td>NaN</td>\n",
       "      <td>NaN</td>\n",
       "      <td>NaN</td>\n",
       "      <td>NaN</td>\n",
       "      <td>NaN</td>\n",
       "      <td>NaN</td>\n",
       "    </tr>\n",
       "  </tbody>\n",
       "</table>\n",
       "</div>"
      ],
      "text/plain": [
       "  Inversión en actividades de ciencia, tecnología e innovación –ACTI como porcentaje del PIB  \\\n",
       "0                                                NaN                                           \n",
       "1                                    I+D como % PIB                                            \n",
       "2                                   ACTI como % PIB                                            \n",
       "3                                                NaN                                           \n",
       "4                                                NaN                                           \n",
       "\n",
       "  Unnamed: 1   Unnamed: 2 Unnamed: 3 Unnamed: 4 Unnamed: 5  Unnamed: 6  \\\n",
       "0       2019  2020.000000      2021*      2022+      2023+         NaN   \n",
       "1   0.002529     0.002962   0.002818   0.002297   0.003112         NaN   \n",
       "2   0.008084     0.009577   0.011484   0.009888   0.010346         NaN   \n",
       "3        NaN          NaN        NaN        NaN        NaN         NaN   \n",
       "4        NaN          NaN        NaN        NaN        NaN         NaN   \n",
       "\n",
       "   Unnamed: 7  Unnamed: 8  \n",
       "0         NaN         NaN  \n",
       "1         NaN         NaN  \n",
       "2         NaN   -0.184762  \n",
       "3         NaN   -0.139025  \n",
       "4         NaN         NaN  "
      ]
     },
     "execution_count": 38,
     "metadata": {},
     "output_type": "execute_result"
    }
   ],
   "source": [
    "#diccionario para las hojas\n",
    "\n",
    "sheets = {sheet: pd.read_excel(data, sheet_name=sheet) for sheet in data.sheet_names}\n",
    "\n",
    "print(\"Hojas disponibles:\", sheets.keys())\n",
    "\n",
    "df = sheets[list(sheets.keys())[11]]   # Escoger una hoja como ejemplo\n",
    "df.head()"
   ]
  },
  {
   "cell_type": "code",
   "execution_count": 39,
   "id": "f4130e5f",
   "metadata": {},
   "outputs": [
    {
     "name": "stdout",
     "output_type": "stream",
     "text": [
      "Dimensiones: (33, 9)\n",
      "\n",
      "Tipos de datos:\n",
      "<class 'pandas.core.frame.DataFrame'>\n",
      "RangeIndex: 33 entries, 0 to 32\n",
      "Data columns (total 9 columns):\n",
      " #   Column                                                                                      Non-Null Count  Dtype  \n",
      "---  ------                                                                                      --------------  -----  \n",
      " 0   Inversión en actividades de ciencia, tecnología e innovación –ACTI como porcentaje del PIB  5 non-null      object \n",
      " 1   Unnamed: 1                                                                                  7 non-null      object \n",
      " 2   Unnamed: 2                                                                                  3 non-null      float64\n",
      " 3   Unnamed: 3                                                                                  3 non-null      object \n",
      " 4   Unnamed: 4                                                                                  3 non-null      object \n",
      " 5   Unnamed: 5                                                                                  3 non-null      object \n",
      " 6   Unnamed: 6                                                                                  0 non-null      float64\n",
      " 7   Unnamed: 7                                                                                  0 non-null      float64\n",
      " 8   Unnamed: 8                                                                                  2 non-null      float64\n",
      "dtypes: float64(4), object(5)\n",
      "memory usage: 2.4+ KB\n",
      "None\n",
      "\n",
      "Valores faltantes:\n",
      "Inversión en actividades de ciencia, tecnología e innovación –ACTI como porcentaje del PIB    28\n",
      "Unnamed: 1                                                                                    26\n",
      "Unnamed: 2                                                                                    30\n",
      "Unnamed: 3                                                                                    30\n",
      "Unnamed: 4                                                                                    30\n",
      "Unnamed: 5                                                                                    30\n",
      "Unnamed: 6                                                                                    33\n",
      "Unnamed: 7                                                                                    33\n",
      "Unnamed: 8                                                                                    31\n",
      "dtype: int64\n"
     ]
    }
   ],
   "source": [
    "#Exploracióninicial\n",
    "\n",
    "print(\"Dimensiones:\", df.shape)\n",
    "print(\"\\nTipos de datos:\")\n",
    "print(df.info())\n",
    "\n",
    "print(\"\\nValores faltantes:\")\n",
    "print(df.isna().sum())"
   ]
  },
  {
   "cell_type": "code",
   "execution_count": 40,
   "id": "d593cea7",
   "metadata": {},
   "outputs": [],
   "source": [
    "# 4. Limpieza de datos\n",
    "\n",
    "df = df.drop_duplicates()\n",
    "df = df.fillna(0)"
   ]
  },
  {
   "cell_type": "code",
   "execution_count": 41,
   "id": "5e3192e2",
   "metadata": {},
   "outputs": [
    {
     "name": "stdout",
     "output_type": "stream",
     "text": [
      "Inversión en actividades de ciencia, tecnología e innovación –ACTI como porcentaje del PIB     object\n",
      "Unnamed: 1                                                                                     object\n",
      "Unnamed: 2                                                                                    float64\n",
      "Unnamed: 3                                                                                     object\n",
      "Unnamed: 4                                                                                     object\n",
      "Unnamed: 5                                                                                     object\n",
      "Unnamed: 6                                                                                    float64\n",
      "Unnamed: 7                                                                                    float64\n",
      "Unnamed: 8                                                                                    float64\n",
      "dtype: object\n",
      "\n",
      "Estadísticos descriptivos:\n",
      "        Unnamed: 2  Unnamed: 6  Unnamed: 7  Unnamed: 8\n",
      "count     9.000000         9.0         9.0    9.000000\n",
      "mean    224.445838         0.0         0.0   -0.035976\n",
      "std     673.332811         0.0         0.0    0.072298\n",
      "min       0.000000         0.0         0.0   -0.184762\n",
      "25%       0.000000         0.0         0.0    0.000000\n",
      "50%       0.000000         0.0         0.0    0.000000\n",
      "75%       0.002962         0.0         0.0    0.000000\n",
      "max    2020.000000         0.0         0.0    0.000000\n"
     ]
    },
    {
     "name": "stderr",
     "output_type": "stream",
     "text": [
      "/tmp/ipykernel_39777/3893465390.py:6: FutureWarning: errors='ignore' is deprecated and will raise in a future version. Use to_numeric without passing `errors` and catch exceptions explicitly instead\n",
      "  df[col] = pd.to_numeric(df[col], errors=\"ignore\")\n"
     ]
    },
    {
     "data": {
      "image/png": "[encoded data removed]",
      "text/plain": [
       "<Figure size 1500x1000 with 4 Axes>"
      ]
     },
     "metadata": {},
     "output_type": "display_data"
    }
   ],
   "source": [
    "# 5. Análisis descriptivo\n",
    "\n",
    "# Forzar a que todas las columnas posibles se conviertan en numéricas\n",
    "# (las que no puedan se quedarán como NaN)\n",
    "for col in df.columns:\n",
    "    df[col] = pd.to_numeric(df[col], errors=\"ignore\")\n",
    "\n",
    "# Revisar de nuevo tipos de datos\n",
    "print(df.dtypes)\n",
    "\n",
    "# Ahora sí, estadísticos y gráficas\n",
    "print(\"\\nEstadísticos descriptivos:\")\n",
    "print(df.describe())\n",
    "\n",
    "# Solo columnas numéricas\n",
    "num_cols = df.select_dtypes(include=[\"int64\", \"float64\"]).columns\n",
    "\n",
    "if len(num_cols) > 0:\n",
    "    df[num_cols].hist(bins=20, figsize=(15,10))\n",
    "    plt.show()\n",
    "else:\n",
    "    print(\"⚠️ No hay columnas numéricas para graficar.\")\n",
    "\n"
   ]
  }
 ],
 "metadata": {
  "kernelspec": {
   "display_name": "Python 3",
   "language": "python",
   "name": "python3"
  },
  "language_info": {
   "codemirror_mode": {
    "name": "ipython",
    "version": 3
   },
   "file_extension": ".py",
   "mimetype": "text/x-python",
   "name": "python",
   "nbconvert_exporter": "python",
   "pygments_lexer": "ipython3",
   "version": "3.12.1"
  }
 },
 "nbformat": 4,
 "nbformat_minor": 5
}
